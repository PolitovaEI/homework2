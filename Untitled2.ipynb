{
 "cells": [
  {
   "cell_type": "code",
   "execution_count": 1,
   "metadata": {},
   "outputs": [],
   "source": [
    "import numpy as np"
   ]
  },
  {
   "cell_type": "code",
   "execution_count": 9,
   "metadata": {},
   "outputs": [
    {
     "name": "stdout",
     "output_type": "stream",
     "text": [
      "[[0.55976626 0.12733625 0.7922391 ]\n",
      " [0.80301553 0.54984524 0.87587424]\n",
      " [0.92607841 0.189242   0.98094583]\n",
      " [0.47545457 0.35674527 0.80051287]\n",
      " [0.13528527 0.53698735 0.89569774]\n",
      " [0.1630338  0.13933426 0.32775041]\n",
      " [0.32554642 0.27802064 0.43835371]\n",
      " [0.8784483  0.07707827 0.64935496]\n",
      " [0.5548787  0.38370968 0.30309451]\n",
      " [0.15715185 0.17147853 0.63893287]]\n"
     ]
    },
    {
     "data": {
      "text/plain": [
       "array([0.55976626, 0.54984524, 0.189242  , 0.47545457, 0.53698735,\n",
       "       0.32775041, 0.43835371, 0.64935496, 0.5548787 , 0.63893287])"
      ]
     },
     "execution_count": 9,
     "metadata": {},
     "output_type": "execute_result"
    }
   ],
   "source": [
    "#1\n",
    "\n",
    "a = np.random.rand(10,3)\n",
    "print(a)\n",
    "a.flatten()[np.argmin(np.abs(a-0.5), 1)+3*np.arange(10)] "
   ]
  },
  {
   "cell_type": "code",
   "execution_count": 10,
   "metadata": {},
   "outputs": [
    {
     "name": "stdout",
     "output_type": "stream",
     "text": [
      "[[7.05585394e-01 1.93931208e-02 9.11196465e-01 4.56738251e-01\n",
      "  4.63485916e-02 9.24541610e-01]\n",
      " [3.47156149e-01 6.30548688e-04 2.03722142e-01 9.50472045e-01\n",
      "  5.01031647e-01 9.28862754e-01]\n",
      " [1.03643164e-01 4.42950515e-01 4.85491741e-01 7.40549352e-01\n",
      "  2.92020040e-01 1.44325840e-01]\n",
      " [9.08686831e-01 7.26280717e-01 2.39900285e-01 8.81455387e-01\n",
      "  1.88317396e-01 9.09018810e-01]\n",
      " [3.05236663e-01 5.00469411e-01 1.89349239e-01 8.48620461e-01\n",
      "  1.54944450e-01 3.07729547e-01]\n",
      " [1.84131748e-01 1.26987717e-01 6.97897637e-02 5.86667294e-01\n",
      "  2.66670164e-02 9.80703804e-01]]\n"
     ]
    },
    {
     "data": {
      "text/plain": [
       "array([  29.56107598, 4649.720699  ,   31.65192909,    8.43734769,\n",
       "         86.48698223,   13.68394837])"
      ]
     },
     "execution_count": 10,
     "metadata": {},
     "output_type": "execute_result"
    }
   ],
   "source": [
    "#2\n",
    "\n",
    "a = np.random.rand(6,6)\n",
    "print(a)\n",
    "np.sum(a,1)/np.min(a,0)"
   ]
  },
  {
   "cell_type": "code",
   "execution_count": 11,
   "metadata": {},
   "outputs": [
    {
     "data": {
      "text/plain": [
       "6"
      ]
     },
     "execution_count": 11,
     "metadata": {},
     "output_type": "execute_result"
    }
   ],
   "source": [
    "#3\n",
    "\n",
    "x = np.array([6, 2, 0, 3, 0, 0, 5, 7, 0])\n",
    "np.max(x[(np.where(x==0)[0]+1)%x.size])"
   ]
  },
  {
   "cell_type": "code",
   "execution_count": 12,
   "metadata": {},
   "outputs": [
    {
     "data": {
      "text/plain": [
       "array([2., 2., 2., 2., 1., 4., 1., 1., 2., 1.])"
      ]
     },
     "execution_count": 12,
     "metadata": {},
     "output_type": "execute_result"
    }
   ],
   "source": [
    "#4\n",
    "\n",
    "x = np.ones(10)\n",
    "i = np.array([0, 1, 2, 3, 5, 5, 5, 8])\n",
    "x + np.concatenate((np.bincount(i), np.zeros((x.size - np.bincount(i).size,))))"
   ]
  },
  {
   "cell_type": "code",
   "execution_count": 13,
   "metadata": {},
   "outputs": [
    {
     "data": {
      "text/plain": [
       "{0: array([0]),\n",
       " 1: array([1, 4]),\n",
       " 2: array([2, 5, 8]),\n",
       " 3: array([ 3,  6,  9, 12]),\n",
       " 4: array([ 7, 10, 13]),\n",
       " 5: array([11, 14]),\n",
       " 6: array([15])}"
      ]
     },
     "execution_count": 13,
     "metadata": {},
     "output_type": "execute_result"
    }
   ],
   "source": [
    "#5\n",
    "\n",
    "n = 4\n",
    "a = np.arange(n**2).reshape(n, n)\n",
    "d = dict()\n",
    "idx = np.indices((n,n))\n",
    "for i in range(2*n - 1):\n",
    "    mask = idx[0] + idx[1] == i\n",
    "    d[i] = a[mask]\n",
    "d "
   ]
  },
  {
   "cell_type": "code",
   "execution_count": 14,
   "metadata": {},
   "outputs": [
    {
     "name": "stdout",
     "output_type": "stream",
     "text": [
      "[0 0 0 0 0 1 1 1 1 1]\n",
      "4.196260580147479\n"
     ]
    }
   ],
   "source": [
    "#6\n",
    "\n",
    "def kmeans(X, centroids, k, iter = 20, tresh = 1e-5, it = 0, dist = 0):\n",
    "    y = np.argmin(np.linalg.norm(X - centroids[:, None], axis=2), axis=0)\n",
    "    if (iter == it):\n",
    "        print(y)\n",
    "        print(dist)\n",
    "        return\n",
    "    c = centroids[y]\n",
    "    #print(X-c)\n",
    "    dist = np.linalg.norm(X-c)\n",
    "    if (dist <= tresh):\n",
    "        print(y)\n",
    "        print(1)\n",
    "        print(dist)\n",
    "        return\n",
    "    coun = np.bincount(y)\n",
    "    for i in range(coun.size):\n",
    "        if coun[i] != 0:\n",
    "            p = np.sum(X[y == i], axis=0)/coun[i]\n",
    "            centroids[i] = p\n",
    "    kmeans(X, centroids, k, 20, tresh, it+1, dist)\n",
    "\n",
    "    \n",
    "centroids = np.array([[5, 5], [10, 10]])\n",
    "X = np.repeat(centroids, 5, axis=0)\n",
    "X = X + np.random.randn(*X.shape)\n",
    "kmeans(X, centroids, 2, 1e-5, 0, 0)"
   ]
  },
  {
   "cell_type": "code",
   "execution_count": null,
   "metadata": {},
   "outputs": [],
   "source": []
  }
 ],
 "metadata": {
  "kernelspec": {
   "display_name": "Python 3",
   "language": "python",
   "name": "python3"
  },
  "language_info": {
   "codemirror_mode": {
    "name": "ipython",
    "version": 3
   },
   "file_extension": ".py",
   "mimetype": "text/x-python",
   "name": "python",
   "nbconvert_exporter": "python",
   "pygments_lexer": "ipython3",
   "version": "3.7.1"
  }
 },
 "nbformat": 4,
 "nbformat_minor": 2
}
